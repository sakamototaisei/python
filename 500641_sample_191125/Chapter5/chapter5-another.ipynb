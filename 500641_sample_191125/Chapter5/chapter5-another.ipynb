{
 "cells": [
  {
   "cell_type": "markdown",
   "metadata": {},
   "source": [
    "# Chapter 5. 手書きの文字を認識しよう\n",
    "\n",
    "このNotebookはLesson 39で作成するもので、作成した学習済みモデルの利用に使います。\n",
    "学習済みモデルの作成までのコードは（Lesson 37から48まで）は、 `chapter5-moji.ipynb` を参照してください。"
   ]
  },
  {
   "cell_type": "markdown",
   "metadata": {},
   "source": [
    "## Lesson 48. 学習済みモデルを作ってみましょう"
   ]
  },
  {
   "cell_type": "code",
   "execution_count": 1,
   "metadata": {},
   "outputs": [
    {
     "data": {
      "text/plain": [
       "LogisticRegression(C=1.0, class_weight=None, dual=False, fit_intercept=True,\n",
       "          intercept_scaling=1, max_iter=100, multi_class='auto',\n",
       "          n_jobs=None, penalty='l2', random_state=0, solver='liblinear',\n",
       "          tol=0.0001, verbose=0, warm_start=False)"
      ]
     },
     "execution_count": 1,
     "metadata": {},
     "output_type": "execute_result"
    }
   ],
   "source": [
    "import pickle\n",
    "\n",
    "\n",
    "with open('trained-model.pickle', 'rb') as fp:\n",
    "    loaded_clf = pickle.load(fp)\n",
    "        \n",
    "loaded_clf"
   ]
  },
  {
   "cell_type": "code",
   "execution_count": 2,
   "metadata": {},
   "outputs": [
    {
     "data": {
      "text/plain": [
       "array([0.        , 0.        , 7.21568627, 9.28627451, 8.15686275,\n",
       "       0.        , 0.        , 0.        , 0.        , 1.38039216,\n",
       "       0.        , 0.        , 0.        , 0.        , 0.        ,\n",
       "       0.        , 0.        , 0.        , 0.        , 0.        ,\n",
       "       0.        , 8.72156863, 0.        , 0.        , 0.        ,\n",
       "       0.        , 0.        , 0.        , 0.        , 7.84313725,\n",
       "       0.        , 0.        , 0.        , 0.        , 0.        ,\n",
       "       0.        , 8.03137255, 0.        , 0.        , 0.        ,\n",
       "       0.        , 0.        , 0.        , 8.78431373, 0.        ,\n",
       "       0.        , 0.        , 0.        , 0.0627451 , 8.84705882,\n",
       "       5.14509804, 0.        , 0.        , 0.        , 0.        ,\n",
       "       6.5254902 , 0.18823529, 0.0627451 , 0.        , 0.        ,\n",
       "       0.        , 0.        , 4.64313725, 0.0627451 ])"
      ]
     },
     "execution_count": 2,
     "metadata": {},
     "output_type": "execute_result"
    }
   ],
   "source": [
    "import numpy\n",
    "from PIL import Image, ImageEnhance, ImageOps\n",
    "\n",
    "im = Image.open('mydigit.jpg')\n",
    "im_enhanced = ImageEnhance.Brightness(im).enhance(2)\n",
    "im_gray = im_enhanced.convert(mode='L')\n",
    "im_8x8 = im_gray.resize((8, 8))\n",
    "im_inverted = ImageOps.invert(im_8x8)\n",
    "X_im2d = numpy.asarray(im_inverted)\n",
    "X_im1d = X_im2d.reshape(-1)\n",
    "X_multiplied = X_im1d * (16 / 255)\n",
    "X_multiplied"
   ]
  },
  {
   "cell_type": "code",
   "execution_count": 3,
   "metadata": {},
   "outputs": [
    {
     "data": {
      "text/plain": [
       "2"
      ]
     },
     "execution_count": 3,
     "metadata": {},
     "output_type": "execute_result"
    }
   ],
   "source": [
    "loaded_clf.predict([X_multiplied])[0]"
   ]
  }
 ],
 "metadata": {
  "kernelspec": {
   "display_name": "Python 3",
   "language": "python",
   "name": "python3"
  },
  "language_info": {
   "codemirror_mode": {
    "name": "ipython",
    "version": 3
   },
   "file_extension": ".py",
   "mimetype": "text/x-python",
   "name": "python",
   "nbconvert_exporter": "python",
   "pygments_lexer": "ipython3",
   "version": "3.7.3"
  }
 },
 "nbformat": 4,
 "nbformat_minor": 2
}